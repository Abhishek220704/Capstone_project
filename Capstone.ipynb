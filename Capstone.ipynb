{
 "cells": [
  {
   "cell_type": "markdown",
   "id": "c945f0f4-e214-44f8-9acd-ee62bfe3ef22",
   "metadata": {},
   "source": [
    "Quantum Cryptography for Secure IoT\n",
    "-"
   ]
  },
  {
   "cell_type": "code",
   "execution_count": 3,
   "id": "92d36337-7f27-4e9e-aadf-443505adeff5",
   "metadata": {},
   "outputs": [
    {
     "name": "stdout",
     "output_type": "stream",
     "text": [
      "\n",
      "🚀 Secure Encrypted Chat Initialized...\n",
      "\n",
      "\n",
      "🔒 Encrypted Index (Copy this for decryption): cWdPbPDvqHrFKRNgMui8WBZODcvBpH2l1J0IJbTUXOH5\n",
      "---------------------------------------------------------------------------------------------------------------------\n",
      "1. 1575fc3b206f815ac7dfa864829dce71aca379b22de7c0b7d30fe855dd148716\n",
      "2. 8c9024b2fde46b316669d276987bc50ea02479e5ad4d2df23a5e3e86fc4f45eb\n",
      "3. e71f3ff95225f35ce662fae615b56af7c4104800f2ba0ef6cb75367800d9b9c3\n",
      "4. a2aaeb3d12cac6dd68f02e44c635186b5554581def641ed257280c47514c25d0\n",
      "5. 50e2cbca94b2f7b214fdc84d30984c0203b9a94a4d53a6eacae4546261c2c4da\n",
      "6. 36d89a9abb91a5026af06bc471f3a926e163ccdb3eeca10972805a33d7617fbe\n",
      "7. 0cf4cdd9fa3ced381f5164b89a18b95f8e4922c94f4a7f230dc7b129a08a872f\n",
      "8. 1fc62466278c62377f1c2fdf0af465e18dafd0c307dd5ec4d4cca8a542050a1f\n",
      "9. 2d30e3020d6690921da9ab948f3b7a13360f2762bd76d6f4f81b7acb28f86368\n",
      "10. bb91a5c33f403ebc61a07a45b1d33185bd2b74c523f33221ad9cf4b1f878f365\n",
      "---------------------------------------------------------------------------------------------------------------------\n"
     ]
    },
    {
     "name": "stdin",
     "output_type": "stream",
     "text": [
      "\n",
      "🔑 Enter the encrypted index:  cWdPbPDvqHrFKRNgMui8WBZODcvBpH2l1J0IJbTUXOH5\n"
     ]
    },
    {
     "name": "stdout",
     "output_type": "stream",
     "text": [
      "\n",
      "🔢 Decrypted Index: 7 (Pick this key from the list!)\n"
     ]
    },
    {
     "name": "stdin",
     "output_type": "stream",
     "text": [
      "\n",
      "🔑 Enter the correct shared key (copy-paste from key list):  0cf4cdd9fa3ced381f5164b89a18b95f8e4922c94f4a7f230dc7b129a08a872f\n"
     ]
    },
    {
     "name": "stdout",
     "output_type": "stream",
     "text": [
      "\n",
      "✅ Key Verified! Secure chat established. 🔐\n"
     ]
    },
    {
     "name": "stdin",
     "output_type": "stream",
     "text": [
      "\n",
      "📝 Sender, enter message (or type 'exit' to quit):  Hello, Im want to let you know something !\n"
     ]
    },
    {
     "name": "stdout",
     "output_type": "stream",
     "text": [
      "\n",
      "📤 Sender Encrypted Message: D7GaZAS+ek2+CJUqJTEyb4LvKuDInPFZBJOWNJbmO98cv2JSI9dYTrHtWXbBxfZov7YNbgDwd226K3HquUY04BlG27Ly6urmB2M=\n",
      "📩 Sender Decrypted Message: Hello, Im want to let you know something !\n",
      "---------------------------------------------------------------------------------------------------------------------\n"
     ]
    },
    {
     "name": "stdin",
     "output_type": "stream",
     "text": [
      "\n",
      "📝 Receiver, enter message (or type 'exit' to quit):  Yes ?\n"
     ]
    },
    {
     "name": "stdout",
     "output_type": "stream",
     "text": [
      "\n",
      "📤 Receiver Encrypted Message: ulJbUuYDIyQyE2tiGxeIfGcDHGxYR8K/eSpOuB+1WWyVWcsgHg==\n",
      "📩 Receiver Decrypted Message: Yes ?\n",
      "---------------------------------------------------------------------------------------------------------------------\n"
     ]
    },
    {
     "name": "stdin",
     "output_type": "stream",
     "text": [
      "\n",
      "📝 Sender, enter message (or type 'exit' to quit):  The otp is 12345, ack the next reply by destroying the key.\n"
     ]
    },
    {
     "name": "stdout",
     "output_type": "stream",
     "text": [
      "\n",
      "📤 Sender Encrypted Message: InySo+Gnk8oel8/rFmCSnV7CTCYU57tudD5+buAIxQrXn24sQRMKIWjyl69RVnk9UieGkSLJUzFw1GXGrRv2c8OBqN3rBIxsYRJdMVd55hWbNaZ/nvOvJpp3Dw==\n",
      "📩 Sender Decrypted Message: The otp is 12345, ack the next reply by destroying the key.\n",
      "---------------------------------------------------------------------------------------------------------------------\n"
     ]
    },
    {
     "name": "stdin",
     "output_type": "stream",
     "text": [
      "\n",
      "📝 Receiver, enter message (or type 'exit' to quit):  exit\n"
     ]
    },
    {
     "name": "stdout",
     "output_type": "stream",
     "text": [
      "\n",
      "🔐 Secure Key Destroyed. Chat Ended. 🚀\n",
      "---------------------------------------------------------------------------------------------------------------------\n",
      "\n",
      "🔎 DEBUG INFO:\n",
      "🔑 Correct Hashed Key: 0cf4cdd9fa3ced381f5164b89a18b95f8e4922c94f4a7f230dc7b129a08a872f\n",
      "🔢 Correct Key Index: 7\n",
      "🔑 User Entered Key:   0cf4cdd9fa3ced381f5164b89a18b95f8e4922c94f4a7f230dc7b129a08a872f\n",
      "---------------------------------------------------------------------------------------------------------------------\n"
     ]
    }
   ],
   "source": [
    "import os\n",
    "import random\n",
    "import base64\n",
    "import logging\n",
    "import numpy as np\n",
    "from hashlib import sha256\n",
    "from Crypto.Cipher import AES\n",
    "from cryptography.hazmat.primitives.kdf.hkdf import HKDF\n",
    "from cryptography.hazmat.primitives import hashes\n",
    "from cryptography.hazmat.backends import default_backend\n",
    "\n",
    "# 🔹 Configure Logging\n",
    "logging.basicConfig(filename=\"chat_log.txt\", level=logging.INFO, \n",
    "                    format=\"%(asctime)s - %(levelname)s - %(message)s\")\n",
    "\n",
    "# 🔹 Generate Random Bits (BB84 QKD Simulation)\n",
    "def generate_random_bits(n): return np.random.randint(2, size=n)\n",
    "def generate_random_bases(n): return np.random.randint(2, size=n)\n",
    "def measure_qubits(bits, sender_bases, receiver_bases):\n",
    "    return np.array([bits[i] if sender_bases[i] == receiver_bases[i] else np.random.randint(2) for i in range(len(bits))])\n",
    "def reconcile_keys(bits, sender_bases, receiver_bases):\n",
    "    return bits[np.where(sender_bases == receiver_bases)[0]]\n",
    "\n",
    "# 🔹 AES-GCM Encryption for Messages\n",
    "def encrypt_message(message, key):\n",
    "    cipher = AES.new(key, AES.MODE_GCM)\n",
    "    nonce = cipher.nonce\n",
    "    ciphertext, tag = cipher.encrypt_and_digest(message.encode())\n",
    "    encrypted_data = base64.b64encode(nonce + tag + ciphertext).decode()\n",
    "\n",
    "    logging.info(f\"Message Encrypted: {message} → {encrypted_data}\")\n",
    "    return encrypted_data\n",
    "\n",
    "# 🔹 AES-GCM Decryption for Messages\n",
    "def decrypt_message(encrypted_data, key):\n",
    "    encrypted_data = base64.b64decode(encrypted_data)\n",
    "    nonce, tag, ciphertext = encrypted_data[:16], encrypted_data[16:32], encrypted_data[32:]\n",
    "    cipher = AES.new(key, AES.MODE_GCM, nonce=nonce)\n",
    "    \n",
    "    try:\n",
    "        decrypted_text = cipher.decrypt_and_verify(ciphertext, tag).decode()\n",
    "        logging.info(f\"Message Decrypted: {encrypted_data} → {decrypted_text}\")\n",
    "        return decrypted_text\n",
    "    except Exception as e:\n",
    "        logging.error(f\"Decryption Failed! Error: {str(e)}\")\n",
    "        return \"[ERROR] Decryption Failed\"\n",
    "\n",
    "# Simulate BB84 QKD Key Exchange\n",
    "n = 64  \n",
    "sender_bits = generate_random_bits(n)\n",
    "sender_bases = generate_random_bases(n)\n",
    "receiver_bases = generate_random_bases(n)\n",
    "\n",
    "receiver_measured_bits = measure_qubits(sender_bits, sender_bases, receiver_bases)\n",
    "final_shared_key_sender = reconcile_keys(sender_bits, sender_bases, receiver_bases)\n",
    "final_shared_key_receiver = reconcile_keys(receiver_measured_bits, sender_bases, receiver_bases)\n",
    "\n",
    "# Convert final key to hashed format\n",
    "final_shared_key_str = ''.join(map(str, final_shared_key_sender))\n",
    "hashed_key = sha256(final_shared_key_str.encode()).digest()\n",
    "\n",
    "# 🔹 Use HKDF for Key Expansion (AES-128 Key)\n",
    "hkdf = HKDF(\n",
    "    algorithm=hashes.SHA256(),\n",
    "    length=16,\n",
    "    salt=None,\n",
    "    info=b'quantum-key',\n",
    "    backend=default_backend()\n",
    ")\n",
    "aes_key = hkdf.derive(hashed_key)\n",
    "\n",
    "# 🔹 Generate 10 Random Keys (One Correct)\n",
    "keys = [os.urandom(32).hex() for _ in range(10)]\n",
    "correct_index = random.randint(0, 9)  # Randomly place the correct key\n",
    "keys[correct_index] = hashed_key.hex()\n",
    "\n",
    "# 🔹 AES-GCM Encryption/Decryption for Index\n",
    "def encrypt_index(index, key):\n",
    "    cipher = AES.new(key, AES.MODE_GCM)\n",
    "    nonce = cipher.nonce\n",
    "    encrypted_index, tag = cipher.encrypt_and_digest(index.to_bytes(1, 'big'))\n",
    "    return base64.b64encode(nonce + tag + encrypted_index).decode()\n",
    "\n",
    "def decrypt_index(encrypted_data, key):\n",
    "    encrypted_data = base64.b64decode(encrypted_data)\n",
    "    nonce, tag, ciphertext = encrypted_data[:16], encrypted_data[16:32], encrypted_data[32:]\n",
    "    cipher = AES.new(key, AES.MODE_GCM, nonce=nonce)\n",
    "    \n",
    "    try:\n",
    "        decrypted_index = int.from_bytes(cipher.decrypt_and_verify(ciphertext, tag), 'big')\n",
    "        logging.info(f\"Index Decrypted: {encrypted_data} → {decrypted_index}\")\n",
    "        return decrypted_index\n",
    "    except Exception as e:\n",
    "        logging.error(f\"Index Decryption Failed! Error: {str(e)}\")\n",
    "        return None\n",
    "\n",
    "# Encrypt the correct index\n",
    "encrypted_index = encrypt_index(correct_index, aes_key)\n",
    "\n",
    "# 🔹 Display Encrypted Index and Key List\n",
    "print(\"\\n🚀 Secure Encrypted Chat Initialized...\\n\")\n",
    "print(f\"\\n🔒 Encrypted Index (Copy this for decryption): {encrypted_index}\")\n",
    "print(\"---------------------------------------------------------------------------------------------------------------------\")\n",
    "\n",
    "# 🔹 Shuffle and Display the Keys\n",
    "random.shuffle(keys)\n",
    "for i, key in enumerate(keys):\n",
    "    print(f\"{i+1}. {key}\")\n",
    "\n",
    "print(\"---------------------------------------------------------------------------------------------------------------------\")\n",
    "\n",
    "# 🔹 User Inputs Encrypted Index and Decrypts It\n",
    "user_encrypted_index = input(\"\\n🔑 Enter the encrypted index: \").strip()\n",
    "decrypted_index = decrypt_index(user_encrypted_index, aes_key)\n",
    "\n",
    "if decrypted_index is None:\n",
    "    print(\"\\n❌ Decryption Failed! Invalid Index.\")\n",
    "    exit()\n",
    "\n",
    "print(f\"\\n🔢 Decrypted Index: {decrypted_index + 1} (Pick this key from the list!)\")\n",
    "\n",
    "# 🔹 User Enters Correct Shared Key\n",
    "user_input_key = input(\"\\n🔑 Enter the correct shared key (copy-paste from key list): \").strip()\n",
    "\n",
    "if user_input_key == keys[decrypted_index]:\n",
    "    print(\"\\n✅ Key Verified! Secure chat established. 🔐\")\n",
    "    logging.info(\"Key Successfully Verified! Secure Chat Started.\")\n",
    "else:\n",
    "    print(\"\\n❌ Incorrect Key! Access Denied.\")\n",
    "    logging.warning(\"Incorrect Key Entered! Access Denied.\")\n",
    "    raise SystemExit  # ✅ Ensures program stops correctly\n",
    "\n",
    "# Initialize chat session\n",
    "chat_count = 0\n",
    "max_chats = random.randint(3, 6)  # Key gets destroyed after a few messages\n",
    "turn = \"Sender\"  # Sender starts first\n",
    "\n",
    "while True:\n",
    "    message = input(f\"\\n📝 {turn}, enter message (or type 'exit' to quit): \").strip()\n",
    "    \n",
    "    if message.lower() == \"exit\" or chat_count >= max_chats:\n",
    "        print(\"\\n🔐 Secure Key Destroyed. Chat Ended. 🚀\")\n",
    "        logging.info(\"Secure Key Destroyed. Chat Session Ended.\")\n",
    "        print(\"---------------------------------------------------------------------------------------------------------------------\")\n",
    "        \n",
    "        # 🔎 Debug Information (Displayed at End)\n",
    "        print(f\"\\n🔎 DEBUG INFO:\")\n",
    "        print(f\"🔑 Correct Hashed Key: {keys[decrypted_index]}\")\n",
    "        print(f\"🔢 Correct Key Index: {decrypted_index + 1}\")\n",
    "        print(f\"🔑 User Entered Key:   {user_input_key}\")\n",
    "        print(\"---------------------------------------------------------------------------------------------------------------------\")\n",
    "        \n",
    "        del keys[decrypted_index]  # Securely delete the key\n",
    "        break\n",
    "\n",
    "    # Encrypt and display message\n",
    "    encrypted_message = encrypt_message(message, aes_key)\n",
    "    print(f\"\\n📤 {turn} Encrypted Message: {encrypted_message}\")\n",
    "\n",
    "    # Simulate receiver decrypting the message\n",
    "    decrypted_message = decrypt_message(encrypted_message, aes_key)\n",
    "    print(f\"📩 {turn} Decrypted Message: {decrypted_message}\")\n",
    "\n",
    "    # Log message exchange\n",
    "    logging.info(f\"{turn} sent encrypted message: {encrypted_message}\")\n",
    "    logging.info(f\"{turn} received decrypted message: {decrypted_message}\")\n",
    "\n",
    "    # Alternate turn between Sender and Receiver\n",
    "    turn = \"Receiver\" if turn == \"Sender\" else \"Sender\"\n",
    "\n",
    "    chat_count += 1  # Increase chat count\n",
    "    print(\"---------------------------------------------------------------------------------------------------------------------\")\n"
   ]
  },
  {
   "cell_type": "code",
   "execution_count": null,
   "id": "c94048ed-d661-43e0-b2bd-2912408c45ff",
   "metadata": {},
   "outputs": [],
   "source": []
  }
 ],
 "metadata": {
  "kernelspec": {
   "display_name": "Python 3 (ipykernel)",
   "language": "python",
   "name": "python3"
  },
  "language_info": {
   "codemirror_mode": {
    "name": "ipython",
    "version": 3
   },
   "file_extension": ".py",
   "mimetype": "text/x-python",
   "name": "python",
   "nbconvert_exporter": "python",
   "pygments_lexer": "ipython3",
   "version": "3.12.7"
  }
 },
 "nbformat": 4,
 "nbformat_minor": 5
}
